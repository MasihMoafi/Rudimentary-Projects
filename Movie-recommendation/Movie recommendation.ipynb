{
 "cells": [
  {
   "cell_type": "code",
   "execution_count": null,
   "id": "4cacaefd",
   "metadata": {
    "scrolled": true
   },
   "outputs": [
    {
     "name": "stderr",
     "output_type": "stream",
     "text": [
      "C:\\Users\\user\\AppData\\Local\\Programs\\Python\\Python311\\Lib\\site-packages\\sklearn\\cluster\\_kmeans.py:870: FutureWarning: The default value of `n_init` will change from 10 to 'auto' in 1.4. Set the value of `n_init` explicitly to suppress the warning\n",
      "  warnings.warn(\n",
      "C:\\Users\\user\\AppData\\Local\\Programs\\Python\\Python311\\Lib\\site-packages\\sklearn\\cluster\\_kmeans.py:870: FutureWarning: The default value of `n_init` will change from 10 to 'auto' in 1.4. Set the value of `n_init` explicitly to suppress the warning\n",
      "  warnings.warn(\n"
     ]
    }
   ],
   "source": [
    "# Import necessary libraries\n",
    "import pandas as pd\n",
    "import numpy as np\n",
    "from sklearn.cluster import KMeans\n",
    "from sklearn.feature_extraction.text import TfidfVectorizer\n",
    "from sklearn.metrics import silhouette_score\n",
    "from sklearn.preprocessing import MinMaxScaler\n",
    "\n",
    "# Load data\n",
    "movie_data = pd.read_csv('C:/Users/user/Desktop/New folder (3)/ml-latest-small/movies.csv')\n",
    "ratings_data = pd.read_csv('C:/Users/user/Desktop/New folder (3)/ml-latest-small/ratings.csv')\n",
    "tags_data = pd.read_csv('C:/Users/user/Desktop/New folder (3)/ml-latest-small/tags.csv')\n",
    "\n",
    "# Merge the Data\n",
    "merged_data = pd.merge(movie_data, ratings_data, on='movieId', how='left')\n",
    "merged_data = pd.merge(merged_data, tags_data, on=['movieId', 'userId'], how='left', suffixes=('_rating', '_tag'))\n",
    "\n",
    "# Preprocessing\n",
    "merged_data['tag'].fillna(\"\", inplace=True)\n",
    "merged_data['rating'].fillna(merged_data['rating'].mean(), inplace=True)\n",
    "merged_data.drop(columns=['timestamp_rating', 'timestamp_tag'], inplace=True)\n",
    "\n",
    "# Feature Engineering\n",
    "# Average rating per movie\n",
    "avg_rating_per_movie = merged_data.groupby('movieId')['rating'].mean().rename('avg_rating').reset_index()\n",
    "merged_data = pd.merge(merged_data, avg_rating_per_movie, on='movieId', how='left')\n",
    "\n",
    "# Number of ratings per movie\n",
    "num_ratings_per_movie = merged_data.groupby('movieId')['rating'].count().rename('num_ratings').reset_index()\n",
    "merged_data = pd.merge(merged_data, num_ratings_per_movie, on='movieId', how='left')\n",
    "\n",
    "# Most common tag per movie\n",
    "most_common_tag = tags_data['tag'].value_counts().idxmax()\n",
    "merged_data['tag'] = merged_data['tag'].apply(lambda x: most_common_tag if x == \"\" else x)\n",
    "\n",
    "# Data Encoding\n",
    "# For genres\n",
    "vect_genres = TfidfVectorizer(stop_words='english')\n",
    "X_genres = vect_genres.fit_transform(merged_data['genres'])\n",
    "\n",
    "# For tags\n",
    "vect_tags = TfidfVectorizer(stop_words='english')\n",
    "X_tags = vect_tags.fit_transform(merged_data['tag'])\n",
    "# Clustering\n",
    "#Choosing the number of clusters for KMeans\n",
    "kmeans_genres = KMeans(n_clusters=10, random_state=42)\n",
    "merged_data['genres_cluster'] = kmeans_genres.fit_predict(X_genres)\n",
    "\n",
    "kmeans_tags = KMeans(n_clusters=5, random_state=42)\n",
    "merged_data['tags_cluster'] = kmeans_tags.fit_predict(X_tags)\n",
    "\n",
    "# Evaluate\n",
    "# Silhouette score\n",
    "genres_silhouette_score = silhouette_score(X_genres, merged_data['genres_cluster'])\n",
    "tags_silhouette_score = silhouette_score(X_tags, merged_data['tags_cluster'])\n",
    "print(f'Genres Silhouette Score: {genres_silhouette_score}')\n",
    "print(f'Tags Silhouette Score: {tags_silhouette_score}')\n",
    "\n",
    "# Interpret\n",
    "order_centroids_genres = kmeans_genres.cluster_centers_.argsort()[:, ::-1]\n",
    "terms_genres = vect_genres.get_feature_names_out()\n",
    "\n",
    "order_centroids_tags = kmeans_tags.cluster_centers_.argsort()[:, ::-1]\n",
    "terms_tags = vect_tags.get_feature_names_out()\n",
    "\n",
    "for i in range(5):\n",
    "    print(f\"Genres Cluster {i}:\")\n",
    "    for ind in order_centroids_genres[i, :min(10, len(terms_genres))]:\n",
    "        print(f' {terms_genres[ind]}')\n",
    "    print()\n",
    "\n",
    "for i in range(5):\n",
    "    print(f\"Tags Cluster {i}:\")\n",
    "    for ind in order_centroids_tags[i, :10]:\n",
    "        print(f' {terms_tags[ind]}')\n",
    "    print()\n"
   ]
  },
  {
   "cell_type": "code",
   "execution_count": 16,
   "id": "8b059622",
   "metadata": {},
   "outputs": [
    {
     "name": "stdout",
     "output_type": "stream",
     "text": [
      "(no genres listed): 34\n",
      "Action: 1828\n",
      "Adventure: 1263\n",
      "Animation: 611\n",
      "Children: 664\n",
      "Comedy: 3756\n",
      "Crime: 1199\n",
      "Documentary: 440\n",
      "Drama: 4361\n",
      "Fantasy: 779\n",
      "Film-Noir: 87\n",
      "Horror: 978\n",
      "IMAX: 158\n",
      "Musical: 334\n",
      "Mystery: 573\n",
      "Romance: 1596\n",
      "Sci-Fi: 980\n",
      "Thriller: 1894\n",
      "War: 382\n",
      "Western: 167\n"
     ]
    }
   ],
   "source": [
    "# Create a list of all genres\n",
    "all_genres = [genre for sublist in list(movie_data['genres'].apply(lambda x: x.split('|')).values) for genre in sublist]\n",
    "\n",
    "# Get unique genres and their counts\n",
    "unique_genres, counts_genres = np.unique(all_genres, return_counts=True)\n",
    "\n",
    "# Print out the unique genres and their counts\n",
    "for genre, count in zip(unique_genres, counts_genres):\n",
    "    print(f\"{genre}: {count}\")\n"
   ]
  },
  {
   "cell_type": "code",
   "execution_count": 11,
   "id": "1551a6e5",
   "metadata": {},
   "outputs": [
    {
     "name": "stdout",
     "output_type": "stream",
     "text": [
      "Because you watched Midnight Meat Train, The (2008), you might like:\n",
      "Dracula: Dead and Loving It (1995)\n",
      "From Dusk Till Dawn (1996)\n",
      "Mary Reilly (1996)\n",
      "Vampire in Brooklyn (1995)\n",
      "Addiction, The (1995)\n"
     ]
    }
   ],
   "source": [
    "# Randomly pick a movie\n",
    "import random\n",
    "# merged_data['cluster'] = KMeans.labels_  # Incorrect\n",
    "merged_data['cluster'] = kmeans_genres.labels_  # Correct\n",
    "random_movie = random.choice(merged_data['title'].unique())\n",
    "movie_cluster = merged_data.loc[merged_data['title'] == random_movie, 'cluster'].values[0]\n",
    "\n",
    "print(f\"Because you watched {random_movie}, you might like:\")\n",
    "\n",
    "# Recommend other movies from the same cluster\n",
    "recommendations = merged_data[merged_data['cluster'] == movie_cluster]['title'].unique()\n",
    "\n",
    "# Print the recommendations\n",
    "for rec in recommendations[:5]:\n",
    "    print(rec)\n"
   ]
  },
  {
   "cell_type": "code",
   "execution_count": 12,
   "id": "da3277d2",
   "metadata": {},
   "outputs": [
    {
     "name": "stdout",
     "output_type": "stream",
     "text": [
      "Genres Calinski-Harabasz Score: 14647.495660329982\n",
      "Genres Davies-Bouldin Score: 1.4494124000797854\n",
      "Tags Calinski-Harabasz Score: 26167.834246084905\n",
      "Tags Davies-Bouldin Score: 1.0796048697849698\n"
     ]
    }
   ],
   "source": [
    "from sklearn.metrics.cluster import calinski_harabasz_score, davies_bouldin_score\n",
    "\n",
    "# For genres\n",
    "genres_CH_score = calinski_harabasz_score(X_genres.toarray(), merged_data['genres_cluster'])\n",
    "genres_DB_score = davies_bouldin_score(X_genres.toarray(), merged_data['genres_cluster'])\n",
    "\n",
    "# For tags\n",
    "tags_CH_score = calinski_harabasz_score(X_tags.toarray(), merged_data['tags_cluster'])\n",
    "tags_DB_score = davies_bouldin_score(X_tags.toarray(), merged_data['tags_cluster'])\n",
    "\n",
    "print(f'Genres Calinski-Harabasz Score: {genres_CH_score}')\n",
    "print(f'Genres Davies-Bouldin Score: {genres_DB_score}')\n",
    "print(f'Tags Calinski-Harabasz Score: {tags_CH_score}')\n",
    "print(f'Tags Davies-Bouldin Score: {tags_DB_score}')\n"
   ]
  }
 ],
 "metadata": {
  "kernelspec": {
   "display_name": "My Environment",
   "language": "python",
   "name": "new"
  },
  "language_info": {
   "codemirror_mode": {
    "name": "ipython",
    "version": 3
   },
   "file_extension": ".py",
   "mimetype": "text/x-python",
   "name": "python",
   "nbconvert_exporter": "python",
   "pygments_lexer": "ipython3",
   "version": "3.11.2"
  }
 },
 "nbformat": 4,
 "nbformat_minor": 5
}
